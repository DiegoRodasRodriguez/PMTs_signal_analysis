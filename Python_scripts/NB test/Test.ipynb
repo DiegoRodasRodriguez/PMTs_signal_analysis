{
 "cells": [
  {
   "cell_type": "markdown",
   "id": "b9186aab-f3dc-4466-bcdf-d279c6d55c77",
   "metadata": {
    "tags": []
   },
   "source": [
    "# Test script: OTPC_simul"
   ]
  },
  {
   "cell_type": "code",
   "execution_count": 1,
   "id": "952e2a6a-34ac-4ebb-bb0a-f4dc9666612f",
   "metadata": {},
   "outputs": [],
   "source": [
    "import numpy as np\n",
    "import matplotlib.pyplot as plt"
   ]
  },
  {
   "cell_type": "code",
   "execution_count": 2,
   "id": "5ead29e6-583b-430d-bff2-c3314c192ef5",
   "metadata": {
    "tags": []
   },
   "outputs": [],
   "source": [
    "%run ../OTPC_simul.py\n",
    "\n",
    "%matplotlib qt"
   ]
  },
  {
   "cell_type": "markdown",
   "id": "edb92da4-faa7-4a0d-82eb-c56166b38798",
   "metadata": {
    "tags": []
   },
   "source": [
    "##  Run"
   ]
  },
  {
   "cell_type": "markdown",
   "id": "543b85cf-a4b5-445d-b01b-0330d9749035",
   "metadata": {
    "tags": []
   },
   "source": [
    "#### Track generation"
   ]
  },
  {
   "cell_type": "code",
   "execution_count": 3,
   "id": "a61cbd3c-9f14-49fc-8c45-063990f572ee",
   "metadata": {
    "tags": []
   },
   "outputs": [
    {
     "name": "stdout",
     "output_type": "stream",
     "text": [
      "track generation...\n",
      "...done\n"
     ]
    }
   ],
   "source": [
    "print('track generation...')\n",
    "x,y,z,t,DeltaE=OTPCsimulator.GenStraightTrack(z0,theta0, phi0, Rpart, Epart/Rpart, Mpart, nsteps)\n",
    "print('...done')"
   ]
  },
  {
   "cell_type": "markdown",
   "id": "df616ba9-5e00-437e-a5df-5201cd1dd17c",
   "metadata": {},
   "source": [
    "#### Initial TPC response"
   ]
  },
  {
   "cell_type": "code",
   "execution_count": 4,
   "id": "5cdbeb84-4499-41be-8e07-63fa0b093f6c",
   "metadata": {
    "tags": []
   },
   "outputs": [
    {
     "name": "stdout",
     "output_type": "stream",
     "text": [
      "calculating primary TPC response...\n",
      "...done\n"
     ]
    }
   ],
   "source": [
    "print('calculating primary TPC response...')\n",
    "global Wi, Ws, tau1, tau2, Ratio12, FanoQ, FanoS\n",
    "\n",
    "Wi=54            #[ev] From \"Properties of some gas mixtures used in tracking detectors\", Archana Sharma, GSI Darmstadt, 1997\n",
    "Ws=500           #[ev] At P~1 bar, and E<60V/cm/bar. From Morozov's: https://doi.org/10.1016/j.nima.2010.07.001 , https://doi.org/10.1016/j.nimb.2010.01.012.\n",
    "tau1=2           #[ns] Morozov/Margato SECONDARY SCINTILLATION (only the dominant UV part -visible would be in between): doi: 10.1088/1748-0221/8/07/p07008.\n",
    "tau2=40          #[ns] Morozov/Margato SECONDARY SCINTILLATION (only the dominant UV part -visible would be in between): doi: 10.1088/1748-0221/8/07/p07008.\n",
    "Ratio12=0.35     #     Morozov/Margato SECONDARY SCINTILLATION (only the dominant UV part -visible would be in between): doi: 10.1088/1748-0221/8/07/p07008.\n",
    "FanoQ=0.2        #     Typical Fano factor for ionization    (unknown)\n",
    "FanoS=0.2        #     Typical Fano factor for scintillation (unknown)\n",
    "\n",
    "xe, ye, ze, te, xPh, yPh, zPh,tPh, LPh=OTPCsimulator.TPCprimaryResponse(x,y,z,t,DeltaE)\n",
    "print('...done')"
   ]
  },
  {
   "cell_type": "markdown",
   "id": "a94df3f4-63d9-49da-a9e3-1bc8c639d512",
   "metadata": {
    "tags": []
   },
   "source": [
    "#### TPC Drift"
   ]
  },
  {
   "cell_type": "code",
   "execution_count": 5,
   "id": "407efef2-3eac-4907-a0e2-853e9f7c4a7f",
   "metadata": {
    "tags": []
   },
   "outputs": [
    {
     "name": "stdout",
     "output_type": "stream",
     "text": [
      "calculating TPC drift...\n",
      "...done\n"
     ]
    }
   ],
   "source": [
    "print('calculating TPC drift...')\n",
    "xeA,yeA,zeA,teA =OTPCsimulator.TPCdrift(xe,ye,ze,te)\n",
    "print('...done')"
   ]
  },
  {
   "cell_type": "markdown",
   "id": "e2e80692-6402-4fd7-9e41-af6e6ad9e045",
   "metadata": {},
   "source": [
    "#### TPC Anode"
   ]
  },
  {
   "cell_type": "code",
   "execution_count": 6,
   "id": "7283e6d2-ca4a-46e2-b4a5-047222afb81c",
   "metadata": {
    "tags": []
   },
   "outputs": [
    {
     "name": "stdout",
     "output_type": "stream",
     "text": [
      "calculating TPC anode response...\n",
      "...done\n"
     ]
    }
   ],
   "source": [
    "print('calculating TPC anode response...')\n",
    "xePh,yePh, zePh, tePh, WePh=OTPCsimulator.TPCanode(xeA,yeA,zeA,teA)\n",
    "print('...done')"
   ]
  },
  {
   "cell_type": "markdown",
   "id": "21146822-7662-4a2c-aacc-367cb5a455d1",
   "metadata": {
    "tags": []
   },
   "source": [
    "#### PMT Response"
   ]
  },
  {
   "cell_type": "code",
   "execution_count": 7,
   "id": "7a59837e-c68d-46d3-90d3-edd9a6cf9135",
   "metadata": {
    "tags": []
   },
   "outputs": [
    {
     "name": "stdout",
     "output_type": "stream",
     "text": [
      "calculating PMT response...\n",
      "...done\n"
     ]
    }
   ],
   "source": [
    "print('calculating PMT response...')\n",
    "#PML_wvf, PMR_wvf, PMU_wvf, PMD_wvf, T_wvf, tPML_S1, tPMR_S1, tPMU_S1, tPMD_S1,tPML_S2, tPMR_S2, tPMU_S2, tPMD_S2=OTPCsimulator.PMTresponse(xePh, yePh, zePh, tePh, WePh, xPh, yPh, zPh, tPh)\n",
    "print('...done')"
   ]
  },
  {
   "cell_type": "markdown",
   "id": "b6314978-52ed-4989-b851-e4a41123c453",
   "metadata": {
    "tags": []
   },
   "source": [
    "#### CMOS Response"
   ]
  },
  {
   "cell_type": "code",
   "execution_count": 8,
   "id": "480ef267-20fa-44f1-a819-ff598c8fab4f",
   "metadata": {},
   "outputs": [
    {
     "name": "stdout",
     "output_type": "stream",
     "text": [
      "calculating CMOS response...\n",
      "...done\n"
     ]
    }
   ],
   "source": [
    "print('calculating CMOS response...')\n",
    "NphXY=OTPCsimulator.CMOSresponse(xePh,yePh,WePh)\n",
    "print('...done')"
   ]
  },
  {
   "cell_type": "markdown",
   "id": "021e7d93-6285-4f8f-b7ab-fd632c4ab98c",
   "metadata": {},
   "source": [
    "## Plots"
   ]
  },
  {
   "cell_type": "code",
   "execution_count": 9,
   "id": "8abf3d3a-5611-4086-9681-8ea2c082caa9",
   "metadata": {
    "jupyter": {
     "source_hidden": true
    },
    "tags": []
   },
   "outputs": [],
   "source": [
    "#Draw ionization centers\n",
    "eps=1e-4\n",
    "\n",
    "fig, axs=plt.subplots(2,2)\n",
    "\n",
    "axs[0,0].plot(x,y,'.', label='energy loss position')\n",
    "axs[0,0].scatter(xe,ye, facecolors='none', edgecolors='red',label='e-ion pairs', zorder=3 )\n",
    "axs[0,0].set_title('primary ionization')\n",
    "axs[0,0].set_xlabel('x [cm]')\n",
    "axs[0,0].set_ylabel('y [cm]')\n",
    "axs[0,0].set_xlim([0.9*min(x),1.1*max(x)+eps])\n",
    "axs[0,0].set_ylim([0.9*min(y),1.1*max(y)+eps])\n",
    "axs[0,0].legend(fontsize=7, loc='lower right')\n",
    "\n",
    "\n",
    "axs[0,1].plot(x,z,'.', label='energy loss position')\n",
    "axs[0,1].scatter(xe,ze,facecolors='none', edgecolors='red',label='e-ion pairs', zorder=3 )\n",
    "axs[0,1].set_title('primary ionization')\n",
    "axs[0,1].set_xlabel('x [cm]')\n",
    "axs[0,1].set_ylabel('z [cm]')\n",
    "axs[0,1].set_xlim([0.9*min(x),1.1*max(x)+eps])\n",
    "axs[0,1].set_ylim([0.9*min(z),1.1*max(z)+eps])\n",
    "axs[0,1].legend(fontsize=7, loc='lower right')\n",
    "\n",
    "\n",
    "axs[1,0].plot(y,z,'.', label='energy loss position')\n",
    "axs[1,0].scatter(ye,ze,facecolors='none', edgecolors='red',label='e-ion pairs', zorder=3 )\n",
    "axs[1,0].set_title('primary ionization')\n",
    "axs[1,0].set_xlabel('y [cm]')\n",
    "axs[1,0].set_ylabel('z [cm]')\n",
    "axs[1,0].set_xlim([0.9*min(y),1.1*max(y)+eps])\n",
    "axs[1,0].set_ylim([0.9*min(z),1.1*max(z)+eps])\n",
    "axs[1,0].legend(fontsize=7, loc='lower right')\n",
    "\n",
    "\n",
    "a,b=np.histogram(te,np.arange(1,10,0.1))\n",
    "axs[1,1].stairs(a ,b)\n",
    "axs[1,1].set_title('primary ionization')\n",
    "axs[1,1].set_xlabel('time [ns]')\n",
    "axs[1,1].set_ylabel('entries')\n",
    "axs[1,1].set_xlim([0.9*min(b),1.1*max(b)+eps])\n",
    "axs[1,1].set_ylim([0.9*min(a),1.1*max(a)+eps])\n",
    "\n",
    "\n",
    "fig.tight_layout()"
   ]
  },
  {
   "cell_type": "code",
   "execution_count": 10,
   "id": "869e65a3-c1a8-4100-bf9d-ed9690a98cfb",
   "metadata": {
    "jupyter": {
     "source_hidden": true
    },
    "tags": []
   },
   "outputs": [],
   "source": [
    "#Draw Photon emission centers\n",
    "\n",
    "fig, axs=plt.subplots(2,2)\n",
    "\n",
    "axs[0,0].plot(x,y,'.', label='energy loss position')\n",
    "axs[0,0].scatter(xe,ye,marker='s', facecolors='none', edgecolors='g',label='photon emission points', zorder=3 )\n",
    "axs[0,0].set_title('primary ionization')\n",
    "axs[0,0].set_xlabel('x [cm]')\n",
    "axs[0,0].set_ylabel('y [cm]')\n",
    "axs[0,0].set_xlim([0.9*min(x),1.1*max(x)+eps])\n",
    "axs[0,0].set_ylim([0.9*min(y),1.1*max(y)+eps])\n",
    "axs[0,0].legend(fontsize=7, loc='lower right')\n",
    "\n",
    "\n",
    "axs[0,1].plot(x,z,'.', label='energy loss position')\n",
    "axs[0,1].scatter(xPh,zPh,facecolors='none',marker='s', edgecolors='g',label='photon emission points', zorder=3 )\n",
    "axs[0,1].set_title('primary ionization')\n",
    "axs[0,1].set_xlabel('x [cm]')\n",
    "axs[0,1].set_ylabel('z [cm]')\n",
    "axs[0,1].set_xlim([0.9*min(x),1.1*max(x)+eps])\n",
    "axs[0,1].set_ylim([0.9*min(z),1.1*max(z)+eps])\n",
    "axs[0,1].legend(fontsize=7, loc='lower right')\n",
    "\n",
    "\n",
    "axs[1,0].plot(y,z,'.', label='energy loss position')\n",
    "axs[1,0].scatter(yPh,zPh,marker='s',facecolors='none', edgecolors='g',label='photon emission points', zorder=3 )\n",
    "axs[1,0].set_title('primary ionization')\n",
    "axs[1,0].set_xlabel('y [cm]')\n",
    "axs[1,0].set_ylabel('z [cm]')\n",
    "axs[1,0].set_xlim([0.9*min(y),1.1*max(y)+eps])\n",
    "axs[1,0].set_ylim([0.9*min(z),1.1*max(z)+eps])\n",
    "axs[1,0].legend(fontsize=7, loc='lower right')\n",
    "\n",
    "\n",
    "a,b=np.histogram(tPh,np.arange(1,200,1))\n",
    "axs[1,1].stairs(a ,b)\n",
    "axs[1,1].set_title('primary scintillation')\n",
    "axs[1,1].set_xlabel('time [ns]')\n",
    "axs[1,1].set_ylabel('entries')\n",
    "axs[1,1].set_xlim([0.9*min(b),1.1*max(b)+eps])\n",
    "axs[1,1].set_ylim([0.9*min(a),1.1*max(a)+eps])\n",
    "#axs[1,1].set_yscale('log')\n",
    "\n",
    "fig.tight_layout()"
   ]
  },
  {
   "cell_type": "code",
   "execution_count": 11,
   "id": "72771c48-c1e2-4ad5-9e2e-5c210cba561f",
   "metadata": {
    "jupyter": {
     "source_hidden": true
    },
    "tags": []
   },
   "outputs": [],
   "source": [
    "#Draw Photon emission centers\n",
    "\n",
    "vd=3.5\n",
    "adjust=1e-3\n",
    "vd=vd*adjust\n",
    "\n",
    "\n",
    "fig, axs=plt.subplots(2,2)\n",
    "\n",
    "axs[0,0].scatter(xeA,yeA,marker='.', color='k')\n",
    "axs[0,0].set_title('primaty ionization@anode')\n",
    "axs[0,0].set_xlabel('$x_A$ [cm]')\n",
    "axs[0,0].set_ylabel('$y_A$ [cm]')\n",
    "axs[0,0].set_xlim([0.9*min(xeA),1.1*max(xeA)+eps])\n",
    "axs[0,0].set_ylim([0.9*min(yeA),1.1*max(yeA)+eps])\n",
    "\n",
    "\n",
    "axs[0,1].scatter(xeA,vd*teA,marker='.',color='k' )\n",
    "axs[0,1].set_title('primaty ionization@anode')\n",
    "axs[0,1].set_xlabel('$x_A$ [cm]')\n",
    "axs[0,1].set_ylabel('$v_d \\\\times t_A$ [cm]')\n",
    "axs[0,1].set_xlim([0.9*min(xeA),1.1*max(xeA)+eps])\n",
    "#axs[0,1].set_ylim([0.9*min(ze),1.1*max(ze)+eps])\n",
    "axs[0,1].set_ylim([9,1.1*max(ze)+eps])\n",
    "\n",
    "\n",
    "axs[1,0].scatter(yeA,vd*teA,marker='.',color='k' )\n",
    "axs[1,0].set_title('primaty ionization@anode')\n",
    "axs[1,0].set_xlabel('$y_A$ [cm]')\n",
    "axs[1,0].set_ylabel('$v_d \\\\times t_A$ [cm]')\n",
    "axs[1,0].set_xlim([0.9*min(yeA),1.1*max(yeA)+eps])\n",
    "#axs[1,0].set_ylim([0.9*min(ze),1.1*max(ze)+eps])\n",
    "axs[1,0].set_ylim([9,1.1*max(ze)+eps])\n",
    "\n",
    "\n",
    "a,b=np.histogram(teA,np.arange(1,10000,10))\n",
    "axs[1,1].stairs(a ,b)\n",
    "axs[1,1].set_title('primaty ionization@anode')\n",
    "axs[1,1].set_xlabel('time [ns]')\n",
    "axs[1,1].set_ylabel('entries')\n",
    "#axs[1,1].set_xlim([0.9*min(b),1.1*max(b)+eps])\n",
    "#axs[1,1].set_ylim([0.9*min(a),1.1*max(a)+eps])\n",
    "#axs[1,1].set_yscale('linear')\n",
    "\n",
    "fig.tight_layout()"
   ]
  },
  {
   "cell_type": "code",
   "execution_count": 12,
   "id": "40cc47bf-318a-4b41-ab4c-5ea4f6442941",
   "metadata": {
    "jupyter": {
     "source_hidden": true
    },
    "tags": []
   },
   "outputs": [],
   "source": [
    "#Draw Photon emission centers\n",
    "\n",
    "\n",
    "fig, axs=plt.subplots(2,2)\n",
    "\n",
    "axs[0,0].scatter(xePh,yePh,marker='.', color='k')\n",
    "axs[0,0].set_title('secondary ionization@anode')\n",
    "axs[0,0].set_xlabel('$xePh$ [cm]')\n",
    "axs[0,0].set_ylabel('$yePh$ [cm]')\n",
    "axs[0,0].set_xlim([0.9*min(xePh),1.1*max(xePh)+eps])\n",
    "axs[0,0].set_ylim([0.9*min(yePh),1.1*max(yePh)+eps])\n",
    "\n",
    "\n",
    "axs[0,1].scatter(xePh,vd*tePh,marker='.',color='k' )\n",
    "axs[0,1].set_title('secondary ionization@anode')\n",
    "axs[0,1].set_xlabel('$xePh$ [cm]')\n",
    "axs[0,1].set_ylabel('$v_d \\\\times tePh$ [cm]')\n",
    "axs[0,1].set_xlim([0.9*min(xePh),1.1*max(xePh)+eps])\n",
    "#axs[0,1].set_ylim([0.9*min(ze),1.1*max(ze)+eps])\n",
    "axs[0,1].set_ylim([9,1.1*max(ze)+eps])\n",
    "\n",
    "\n",
    "axs[1,0].scatter(yePh,vd*tePh,marker='.',color='k' )\n",
    "axs[1,0].set_title('secondary ionization@anode')\n",
    "axs[1,0].set_xlabel('$y_A$ [cm]')\n",
    "axs[1,0].set_ylabel('$v_d \\\\times tePh$ [cm]')\n",
    "axs[1,0].set_xlim([0.9*min(yePh),1.1*max(yePh)+eps])\n",
    "#axs[1,0].set_ylim([0.9*min(ze),1.1*max(ze)+eps])\n",
    "axs[1,0].set_ylim([9,1.1*max(ze)+eps])\n",
    "\n",
    "\n",
    "\n",
    "a,b=np.histogram(tePh,np.arange(1,10000,10))\n",
    "axs[1,1].stairs(a ,b)\n",
    "axs[1,1].set_title('secondary ionization@anode')\n",
    "axs[1,1].set_xlabel('tePh [ns]')\n",
    "axs[1,1].set_ylabel('entries')\n",
    "axs[1,1].set_xlim([150,1.1*max(b)+eps])\n",
    "axs[1,1].set_ylim([0.9*min(a),500])\n",
    "#axs[1,1].set_yscale('linear')\n",
    "\n",
    "fig.tight_layout()"
   ]
  },
  {
   "cell_type": "code",
   "execution_count": 13,
   "id": "49d85caf-1c53-4715-b5d1-f88e7162c478",
   "metadata": {
    "tags": []
   },
   "outputs": [],
   "source": [
    "plt.imshow(NphXY)\n",
    "plt.show()"
   ]
  },
  {
   "cell_type": "code",
   "execution_count": null,
   "id": "fa14f3ea-ed5c-4ee9-8c4c-2209796b7d95",
   "metadata": {
    "tags": []
   },
   "outputs": [],
   "source": []
  }
 ],
 "metadata": {
  "kernelspec": {
   "display_name": "Python 3 (ipykernel)",
   "language": "python",
   "name": "python3"
  },
  "language_info": {
   "codemirror_mode": {
    "name": "ipython",
    "version": 3
   },
   "file_extension": ".py",
   "mimetype": "text/x-python",
   "name": "python",
   "nbconvert_exporter": "python",
   "pygments_lexer": "ipython3",
   "version": "3.9.16"
  }
 },
 "nbformat": 4,
 "nbformat_minor": 5
}
